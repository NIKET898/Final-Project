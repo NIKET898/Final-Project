{
 "cells": [
  {
   "cell_type": "code",
   "execution_count": 338,
   "id": "ab6afa4a",
   "metadata": {},
   "outputs": [],
   "source": [
    "\n",
    "import pandas as pd\n",
    "import numpy as np\n",
    "import matplotlib.pyplot as plt \n",
    "import matplotlib_inline\n",
    "import matplotlib\n",
    "matplotlib.rcParams[\"figure.figsize\"] = (20,10)\n",
    "from sklearn.model_selection import train_test_split\n",
    "from sklearn.linear_model import LinearRegression,Lasso,Ridge\n",
    "from sklearn.preprocessing import OneHotEncoder,StandardScaler\n",
    "from sklearn.compose import make_column_transformer\n",
    "from sklearn.pipeline import make_pipeline\n",
    "from sklearn.metrics import r2_score\n",
    "import pickle\n",
    "\n",
    "\n"
   ]
  },
  {
   "cell_type": "code",
   "execution_count": 339,
   "id": "9b35f7f2",
   "metadata": {},
   "outputs": [
    {
     "data": {
      "text/html": [
       "<div>\n",
       "<style scoped>\n",
       "    .dataframe tbody tr th:only-of-type {\n",
       "        vertical-align: middle;\n",
       "    }\n",
       "\n",
       "    .dataframe tbody tr th {\n",
       "        vertical-align: top;\n",
       "    }\n",
       "\n",
       "    .dataframe thead th {\n",
       "        text-align: right;\n",
       "    }\n",
       "</style>\n",
       "<table border=\"1\" class=\"dataframe\">\n",
       "  <thead>\n",
       "    <tr style=\"text-align: right;\">\n",
       "      <th></th>\n",
       "      <th>City</th>\n",
       "      <th>Price</th>\n",
       "      <th>Area</th>\n",
       "      <th>Location</th>\n",
       "      <th>bhk</th>\n",
       "      <th>Resale</th>\n",
       "      <th>MaintenanceStaff</th>\n",
       "      <th>Gymnasium</th>\n",
       "      <th>SwimmingPool</th>\n",
       "      <th>LandscapedGardens</th>\n",
       "      <th>JoggingTrack</th>\n",
       "      <th>Intercom</th>\n",
       "      <th>ClubHouse</th>\n",
       "      <th>24X7Security</th>\n",
       "      <th>CarParking</th>\n",
       "      <th>WashingMachine</th>\n",
       "      <th>Gasconnection</th>\n",
       "      <th>LiftAvailable</th>\n",
       "    </tr>\n",
       "  </thead>\n",
       "  <tbody>\n",
       "    <tr>\n",
       "      <th>0</th>\n",
       "      <td>Bangalore</td>\n",
       "      <td>30000000.0</td>\n",
       "      <td>3340.0</td>\n",
       "      <td>Bangalore JP Nagar Phase 1</td>\n",
       "      <td>4.0</td>\n",
       "      <td>0.0</td>\n",
       "      <td>1.0</td>\n",
       "      <td>1.0</td>\n",
       "      <td>1.0</td>\n",
       "      <td>1.0</td>\n",
       "      <td>1.0</td>\n",
       "      <td>1.0</td>\n",
       "      <td>1.0</td>\n",
       "      <td>1.0</td>\n",
       "      <td>0.0</td>\n",
       "      <td>0.0</td>\n",
       "      <td>0.0</td>\n",
       "      <td>1.0</td>\n",
       "    </tr>\n",
       "    <tr>\n",
       "      <th>1</th>\n",
       "      <td>Bangalore</td>\n",
       "      <td>7888000.0</td>\n",
       "      <td>1045.0</td>\n",
       "      <td>Bangalore Dasarahalli on Tumkur Road</td>\n",
       "      <td>2.0</td>\n",
       "      <td>0.0</td>\n",
       "      <td>0.0</td>\n",
       "      <td>1.0</td>\n",
       "      <td>1.0</td>\n",
       "      <td>1.0</td>\n",
       "      <td>1.0</td>\n",
       "      <td>0.0</td>\n",
       "      <td>1.0</td>\n",
       "      <td>1.0</td>\n",
       "      <td>1.0</td>\n",
       "      <td>0.0</td>\n",
       "      <td>0.0</td>\n",
       "      <td>1.0</td>\n",
       "    </tr>\n",
       "    <tr>\n",
       "      <th>2</th>\n",
       "      <td>Bangalore</td>\n",
       "      <td>4866000.0</td>\n",
       "      <td>1179.0</td>\n",
       "      <td>Bangalore Kannur on Thanisandra Main Road</td>\n",
       "      <td>2.0</td>\n",
       "      <td>0.0</td>\n",
       "      <td>0.0</td>\n",
       "      <td>1.0</td>\n",
       "      <td>1.0</td>\n",
       "      <td>1.0</td>\n",
       "      <td>1.0</td>\n",
       "      <td>1.0</td>\n",
       "      <td>0.0</td>\n",
       "      <td>1.0</td>\n",
       "      <td>0.0</td>\n",
       "      <td>0.0</td>\n",
       "      <td>0.0</td>\n",
       "      <td>1.0</td>\n",
       "    </tr>\n",
       "    <tr>\n",
       "      <th>3</th>\n",
       "      <td>Bangalore</td>\n",
       "      <td>8358000.0</td>\n",
       "      <td>1675.0</td>\n",
       "      <td>Bangalore Doddanekundi</td>\n",
       "      <td>3.0</td>\n",
       "      <td>0.0</td>\n",
       "      <td>0.0</td>\n",
       "      <td>0.0</td>\n",
       "      <td>0.0</td>\n",
       "      <td>0.0</td>\n",
       "      <td>0.0</td>\n",
       "      <td>1.0</td>\n",
       "      <td>0.0</td>\n",
       "      <td>0.0</td>\n",
       "      <td>0.0</td>\n",
       "      <td>0.0</td>\n",
       "      <td>0.0</td>\n",
       "      <td>1.0</td>\n",
       "    </tr>\n",
       "    <tr>\n",
       "      <th>4</th>\n",
       "      <td>Bangalore</td>\n",
       "      <td>6845000.0</td>\n",
       "      <td>1670.0</td>\n",
       "      <td>Bangalore Kengeri</td>\n",
       "      <td>3.0</td>\n",
       "      <td>0.0</td>\n",
       "      <td>1.0</td>\n",
       "      <td>1.0</td>\n",
       "      <td>1.0</td>\n",
       "      <td>1.0</td>\n",
       "      <td>1.0</td>\n",
       "      <td>1.0</td>\n",
       "      <td>1.0</td>\n",
       "      <td>1.0</td>\n",
       "      <td>1.0</td>\n",
       "      <td>0.0</td>\n",
       "      <td>0.0</td>\n",
       "      <td>1.0</td>\n",
       "    </tr>\n",
       "  </tbody>\n",
       "</table>\n",
       "</div>"
      ],
      "text/plain": [
       "        City       Price    Area                                   Location  \\\n",
       "0  Bangalore  30000000.0  3340.0                 Bangalore JP Nagar Phase 1   \n",
       "1  Bangalore   7888000.0  1045.0       Bangalore Dasarahalli on Tumkur Road   \n",
       "2  Bangalore   4866000.0  1179.0  Bangalore Kannur on Thanisandra Main Road   \n",
       "3  Bangalore   8358000.0  1675.0                     Bangalore Doddanekundi   \n",
       "4  Bangalore   6845000.0  1670.0                          Bangalore Kengeri   \n",
       "\n",
       "   bhk  Resale  MaintenanceStaff  Gymnasium  SwimmingPool  LandscapedGardens  \\\n",
       "0  4.0     0.0               1.0        1.0           1.0                1.0   \n",
       "1  2.0     0.0               0.0        1.0           1.0                1.0   \n",
       "2  2.0     0.0               0.0        1.0           1.0                1.0   \n",
       "3  3.0     0.0               0.0        0.0           0.0                0.0   \n",
       "4  3.0     0.0               1.0        1.0           1.0                1.0   \n",
       "\n",
       "   JoggingTrack  Intercom  ClubHouse  24X7Security  CarParking  \\\n",
       "0           1.0       1.0        1.0           1.0         0.0   \n",
       "1           1.0       0.0        1.0           1.0         1.0   \n",
       "2           1.0       1.0        0.0           1.0         0.0   \n",
       "3           0.0       1.0        0.0           0.0         0.0   \n",
       "4           1.0       1.0        1.0           1.0         1.0   \n",
       "\n",
       "   WashingMachine  Gasconnection  LiftAvailable  \n",
       "0             0.0            0.0            1.0  \n",
       "1             0.0            0.0            1.0  \n",
       "2             0.0            0.0            1.0  \n",
       "3             0.0            0.0            1.0  \n",
       "4             0.0            0.0            1.0  "
      ]
     },
     "execution_count": 339,
     "metadata": {},
     "output_type": "execute_result"
    }
   ],
   "source": [
    "df1 = pd.read_csv(r\"C:\\Users\\shrey\\Desktop/realestate.csv\")\n",
    "df1.head()\n"
   ]
  },
  {
   "cell_type": "code",
   "execution_count": 340,
   "id": "47dd46aa",
   "metadata": {},
   "outputs": [
    {
     "data": {
      "text/plain": [
       "(18740, 18)"
      ]
     },
     "execution_count": 340,
     "metadata": {},
     "output_type": "execute_result"
    }
   ],
   "source": [
    "df1.shape"
   ]
  },
  {
   "cell_type": "code",
   "execution_count": 341,
   "id": "3182bbd2",
   "metadata": {},
   "outputs": [
    {
     "name": "stdout",
     "output_type": "stream",
     "text": [
      "Bangalore    6207\n",
      "Chennai      5014\n",
      "Delhi        4998\n",
      "Hyderabad    2518\n",
      "Name: City, dtype: int64\n",
      "********************\n",
      "4000000.0     186\n",
      "3500000.0     181\n",
      "4500000.0     180\n",
      "2500000.0     141\n",
      "11000000.0    138\n",
      "             ... \n",
      "5822000.0       1\n",
      "4720000.0       1\n",
      "8302000.0       1\n",
      "8634000.0       1\n",
      "7750000.0       1\n",
      "Name: Price, Length: 3999, dtype: int64\n",
      "********************\n",
      "800.0     596\n",
      "1000.0    557\n",
      "1800.0    302\n",
      "1200.0    277\n",
      "1500.0    271\n",
      "         ... \n",
      "2508.0      1\n",
      "1734.0      1\n",
      "2483.0      1\n",
      "2324.0      1\n",
      "2175.0      1\n",
      "Name: Area, Length: 2111, dtype: int64\n",
      "********************\n",
      "Delhi Noida                          761\n",
      "Delhi Uttam Nagar                    430\n",
      "Delhi Dwarka Mor                     347\n",
      "Delhi Vasant Kunj                    263\n",
      "Bangalore Electronic City Phase 2    232\n",
      "                                    ... \n",
      "Chennai GST Road                       1\n",
      "Chennai 200 Feet Radial Road           1\n",
      "Delhi 59 Sector 22 Road                1\n",
      "Delhi CD Block Dakshini Pitampura      1\n",
      "Hyderabad Paradise Circle              1\n",
      "Name: Location, Length: 1069, dtype: int64\n",
      "********************\n",
      "2.0    8435\n",
      "3.0    7996\n",
      "4.0    1247\n",
      "1.0     896\n",
      "5.0     132\n",
      "6.0      17\n",
      "7.0       7\n",
      "8.0       7\n",
      "Name: bhk, dtype: int64\n",
      "********************\n",
      "0.0    13189\n",
      "1.0     5548\n",
      "Name: Resale, dtype: int64\n",
      "********************\n",
      "9.0    10117\n",
      "0.0     7913\n",
      "1.0      707\n",
      "Name: MaintenanceStaff, dtype: int64\n",
      "********************\n",
      "9.0    10117\n",
      "1.0     4410\n",
      "0.0     4210\n",
      "Name: Gymnasium, dtype: int64\n",
      "********************\n",
      "9.0    10117\n",
      "0.0     4991\n",
      "1.0     3629\n",
      "Name: SwimmingPool, dtype: int64\n",
      "********************\n",
      "9.0    10117\n",
      "0.0     5685\n",
      "1.0     2935\n",
      "Name: LandscapedGardens, dtype: int64\n",
      "********************\n",
      "9.0    10117\n",
      "0.0     5819\n",
      "1.0     2801\n",
      "Name: JoggingTrack, dtype: int64\n",
      "********************\n",
      "9.0    10117\n",
      "0.0     4606\n",
      "1.0     4014\n",
      "Name: Intercom, dtype: int64\n",
      "********************\n",
      "9.0    10117\n",
      "0.0     5036\n",
      "1.0     3584\n",
      "Name: ClubHouse, dtype: int64\n",
      "********************\n",
      "9.0    10117\n",
      "0.0     5417\n",
      "1.0     3203\n",
      "Name: 24X7Security, dtype: int64\n",
      "********************\n",
      "9.0    10117\n",
      "0.0     5260\n",
      "1.0     3360\n",
      "Name: CarParking, dtype: int64\n",
      "********************\n",
      "9.0    10117\n",
      "0.0     8219\n",
      "1.0      401\n",
      "Name: WashingMachine, dtype: int64\n",
      "********************\n",
      "9.0    10117\n",
      "0.0     7047\n",
      "1.0     1573\n",
      "Name: Gasconnection, dtype: int64\n",
      "********************\n",
      "9.0    10117\n",
      "1.0     6030\n",
      "0.0     2590\n",
      "Name: LiftAvailable, dtype: int64\n",
      "********************\n"
     ]
    }
   ],
   "source": [
    "for column in df1.columns:\n",
    "    print(df1[column].value_counts())\n",
    "    print(\"*\"*20)"
   ]
  },
  {
   "cell_type": "code",
   "execution_count": 342,
   "id": "c52d9397",
   "metadata": {},
   "outputs": [
    {
     "data": {
      "text/plain": [
       "City                 3\n",
       "Price                3\n",
       "Area                 3\n",
       "Location             3\n",
       "bhk                  3\n",
       "Resale               3\n",
       "MaintenanceStaff     3\n",
       "Gymnasium            3\n",
       "SwimmingPool         3\n",
       "LandscapedGardens    3\n",
       "JoggingTrack         3\n",
       "Intercom             3\n",
       "ClubHouse            3\n",
       "24X7Security         3\n",
       "CarParking           3\n",
       "WashingMachine       3\n",
       "Gasconnection        3\n",
       "LiftAvailable        3\n",
       "dtype: int64"
      ]
     },
     "execution_count": 342,
     "metadata": {},
     "output_type": "execute_result"
    }
   ],
   "source": [
    "df1.isnull().sum()"
   ]
  },
  {
   "cell_type": "code",
   "execution_count": 343,
   "id": "0bb2cbd2",
   "metadata": {},
   "outputs": [
    {
     "data": {
      "text/plain": [
       "City                 0\n",
       "Price                0\n",
       "Area                 0\n",
       "Location             0\n",
       "bhk                  0\n",
       "Resale               0\n",
       "MaintenanceStaff     0\n",
       "Gymnasium            0\n",
       "SwimmingPool         0\n",
       "LandscapedGardens    0\n",
       "JoggingTrack         0\n",
       "Intercom             0\n",
       "ClubHouse            0\n",
       "24X7Security         0\n",
       "CarParking           0\n",
       "WashingMachine       0\n",
       "Gasconnection        0\n",
       "LiftAvailable        0\n",
       "dtype: int64"
      ]
     },
     "execution_count": 343,
     "metadata": {},
     "output_type": "execute_result"
    }
   ],
   "source": [
    "df2 = df1.dropna()\n",
    "df2.isnull().sum()\n"
   ]
  },
  {
   "cell_type": "code",
   "execution_count": 344,
   "id": "019adbb7",
   "metadata": {},
   "outputs": [
    {
     "data": {
      "text/html": [
       "<div>\n",
       "<style scoped>\n",
       "    .dataframe tbody tr th:only-of-type {\n",
       "        vertical-align: middle;\n",
       "    }\n",
       "\n",
       "    .dataframe tbody tr th {\n",
       "        vertical-align: top;\n",
       "    }\n",
       "\n",
       "    .dataframe thead th {\n",
       "        text-align: right;\n",
       "    }\n",
       "</style>\n",
       "<table border=\"1\" class=\"dataframe\">\n",
       "  <thead>\n",
       "    <tr style=\"text-align: right;\">\n",
       "      <th></th>\n",
       "      <th>City</th>\n",
       "      <th>Price</th>\n",
       "      <th>Area</th>\n",
       "      <th>Location</th>\n",
       "      <th>bhk</th>\n",
       "    </tr>\n",
       "  </thead>\n",
       "  <tbody>\n",
       "    <tr>\n",
       "      <th>0</th>\n",
       "      <td>Bangalore</td>\n",
       "      <td>30000000.0</td>\n",
       "      <td>3340.0</td>\n",
       "      <td>Bangalore JP Nagar Phase 1</td>\n",
       "      <td>4.0</td>\n",
       "    </tr>\n",
       "    <tr>\n",
       "      <th>1</th>\n",
       "      <td>Bangalore</td>\n",
       "      <td>7888000.0</td>\n",
       "      <td>1045.0</td>\n",
       "      <td>Bangalore Dasarahalli on Tumkur Road</td>\n",
       "      <td>2.0</td>\n",
       "    </tr>\n",
       "    <tr>\n",
       "      <th>2</th>\n",
       "      <td>Bangalore</td>\n",
       "      <td>4866000.0</td>\n",
       "      <td>1179.0</td>\n",
       "      <td>Bangalore Kannur on Thanisandra Main Road</td>\n",
       "      <td>2.0</td>\n",
       "    </tr>\n",
       "    <tr>\n",
       "      <th>3</th>\n",
       "      <td>Bangalore</td>\n",
       "      <td>8358000.0</td>\n",
       "      <td>1675.0</td>\n",
       "      <td>Bangalore Doddanekundi</td>\n",
       "      <td>3.0</td>\n",
       "    </tr>\n",
       "    <tr>\n",
       "      <th>4</th>\n",
       "      <td>Bangalore</td>\n",
       "      <td>6845000.0</td>\n",
       "      <td>1670.0</td>\n",
       "      <td>Bangalore Kengeri</td>\n",
       "      <td>3.0</td>\n",
       "    </tr>\n",
       "  </tbody>\n",
       "</table>\n",
       "</div>"
      ],
      "text/plain": [
       "        City       Price    Area                                   Location  \\\n",
       "0  Bangalore  30000000.0  3340.0                 Bangalore JP Nagar Phase 1   \n",
       "1  Bangalore   7888000.0  1045.0       Bangalore Dasarahalli on Tumkur Road   \n",
       "2  Bangalore   4866000.0  1179.0  Bangalore Kannur on Thanisandra Main Road   \n",
       "3  Bangalore   8358000.0  1675.0                     Bangalore Doddanekundi   \n",
       "4  Bangalore   6845000.0  1670.0                          Bangalore Kengeri   \n",
       "\n",
       "   bhk  \n",
       "0  4.0  \n",
       "1  2.0  \n",
       "2  2.0  \n",
       "3  3.0  \n",
       "4  3.0  "
      ]
     },
     "execution_count": 344,
     "metadata": {},
     "output_type": "execute_result"
    }
   ],
   "source": [
    "df2 = df1.drop(['LandscapedGardens','JoggingTrack','SwimmingPool','Resale','Gasconnection','CarParking','LiftAvailable','MaintenanceStaff','Gymnasium','Intercom','ClubHouse','24X7Security','WashingMachine'],axis='columns')\n",
    "df2.head()"
   ]
  },
  {
   "cell_type": "code",
   "execution_count": 345,
   "id": "9f636d0e",
   "metadata": {},
   "outputs": [
    {
     "data": {
      "text/html": [
       "<div>\n",
       "<style scoped>\n",
       "    .dataframe tbody tr th:only-of-type {\n",
       "        vertical-align: middle;\n",
       "    }\n",
       "\n",
       "    .dataframe tbody tr th {\n",
       "        vertical-align: top;\n",
       "    }\n",
       "\n",
       "    .dataframe thead th {\n",
       "        text-align: right;\n",
       "    }\n",
       "</style>\n",
       "<table border=\"1\" class=\"dataframe\">\n",
       "  <thead>\n",
       "    <tr style=\"text-align: right;\">\n",
       "      <th></th>\n",
       "      <th>Price</th>\n",
       "      <th>Area</th>\n",
       "      <th>bhk</th>\n",
       "    </tr>\n",
       "  </thead>\n",
       "  <tbody>\n",
       "    <tr>\n",
       "      <th>count</th>\n",
       "      <td>1.873700e+04</td>\n",
       "      <td>18737.000000</td>\n",
       "      <td>18737.000000</td>\n",
       "    </tr>\n",
       "    <tr>\n",
       "      <th>mean</th>\n",
       "      <td>1.140007e+07</td>\n",
       "      <td>1397.229172</td>\n",
       "      <td>2.540908</td>\n",
       "    </tr>\n",
       "    <tr>\n",
       "      <th>std</th>\n",
       "      <td>2.608179e+07</td>\n",
       "      <td>791.821573</td>\n",
       "      <td>0.740903</td>\n",
       "    </tr>\n",
       "    <tr>\n",
       "      <th>min</th>\n",
       "      <td>2.000000e+06</td>\n",
       "      <td>200.000000</td>\n",
       "      <td>1.000000</td>\n",
       "    </tr>\n",
       "    <tr>\n",
       "      <th>25%</th>\n",
       "      <td>4.152000e+06</td>\n",
       "      <td>943.000000</td>\n",
       "      <td>2.000000</td>\n",
       "    </tr>\n",
       "    <tr>\n",
       "      <th>50%</th>\n",
       "      <td>6.600000e+06</td>\n",
       "      <td>1210.000000</td>\n",
       "      <td>3.000000</td>\n",
       "    </tr>\n",
       "    <tr>\n",
       "      <th>75%</th>\n",
       "      <td>1.130000e+07</td>\n",
       "      <td>1630.000000</td>\n",
       "      <td>3.000000</td>\n",
       "    </tr>\n",
       "    <tr>\n",
       "      <th>max</th>\n",
       "      <td>8.546000e+08</td>\n",
       "      <td>16000.000000</td>\n",
       "      <td>8.000000</td>\n",
       "    </tr>\n",
       "  </tbody>\n",
       "</table>\n",
       "</div>"
      ],
      "text/plain": [
       "              Price          Area           bhk\n",
       "count  1.873700e+04  18737.000000  18737.000000\n",
       "mean   1.140007e+07   1397.229172      2.540908\n",
       "std    2.608179e+07    791.821573      0.740903\n",
       "min    2.000000e+06    200.000000      1.000000\n",
       "25%    4.152000e+06    943.000000      2.000000\n",
       "50%    6.600000e+06   1210.000000      3.000000\n",
       "75%    1.130000e+07   1630.000000      3.000000\n",
       "max    8.546000e+08  16000.000000      8.000000"
      ]
     },
     "execution_count": 345,
     "metadata": {},
     "output_type": "execute_result"
    }
   ],
   "source": [
    "df2.describe()"
   ]
  },
  {
   "cell_type": "code",
   "execution_count": 346,
   "id": "3c485bea",
   "metadata": {},
   "outputs": [
    {
     "name": "stdout",
     "output_type": "stream",
     "text": [
      "<class 'pandas.core.frame.DataFrame'>\n",
      "RangeIndex: 18740 entries, 0 to 18739\n",
      "Data columns (total 5 columns):\n",
      " #   Column    Non-Null Count  Dtype  \n",
      "---  ------    --------------  -----  \n",
      " 0   City      18737 non-null  object \n",
      " 1   Price     18737 non-null  float64\n",
      " 2   Area      18737 non-null  float64\n",
      " 3   Location  18737 non-null  object \n",
      " 4   bhk       18737 non-null  float64\n",
      "dtypes: float64(3), object(2)\n",
      "memory usage: 732.2+ KB\n"
     ]
    }
   ],
   "source": [
    "df2.info()"
   ]
  },
  {
   "cell_type": "code",
   "execution_count": 347,
   "id": "8f88b08d",
   "metadata": {},
   "outputs": [
    {
     "data": {
      "text/plain": [
       "Delhi Noida                          761\n",
       "Delhi Uttam Nagar                    430\n",
       "Delhi Dwarka Mor                     347\n",
       "Delhi Vasant Kunj                    263\n",
       "Bangalore Electronic City Phase 2    232\n",
       "                                    ... \n",
       "Chennai GST Road                       1\n",
       "Chennai 200 Feet Radial Road           1\n",
       "Delhi 59 Sector 22 Road                1\n",
       "Delhi CD Block Dakshini Pitampura      1\n",
       "Hyderabad Paradise Circle              1\n",
       "Name: Location, Length: 1069, dtype: int64"
      ]
     },
     "execution_count": 347,
     "metadata": {},
     "output_type": "execute_result"
    }
   ],
   "source": [
    "df2['Location'].value_counts()"
   ]
  },
  {
   "cell_type": "code",
   "execution_count": 348,
   "id": "5f3fb4de",
   "metadata": {},
   "outputs": [],
   "source": [
    "df2['Location']=df2['Location'].fillna('Delhi Noida')"
   ]
  },
  {
   "cell_type": "code",
   "execution_count": 349,
   "id": "a1f89990",
   "metadata": {},
   "outputs": [
    {
     "data": {
      "text/plain": [
       "2.0    8435\n",
       "3.0    7996\n",
       "4.0    1247\n",
       "1.0     896\n",
       "5.0     132\n",
       "6.0      17\n",
       "7.0       7\n",
       "8.0       7\n",
       "Name: bhk, dtype: int64"
      ]
     },
     "execution_count": 349,
     "metadata": {},
     "output_type": "execute_result"
    }
   ],
   "source": [
    "df2['bhk'].value_counts()"
   ]
  },
  {
   "cell_type": "code",
   "execution_count": 350,
   "id": "d814eb86",
   "metadata": {},
   "outputs": [
    {
     "data": {
      "text/html": [
       "<div>\n",
       "<style scoped>\n",
       "    .dataframe tbody tr th:only-of-type {\n",
       "        vertical-align: middle;\n",
       "    }\n",
       "\n",
       "    .dataframe tbody tr th {\n",
       "        vertical-align: top;\n",
       "    }\n",
       "\n",
       "    .dataframe thead th {\n",
       "        text-align: right;\n",
       "    }\n",
       "</style>\n",
       "<table border=\"1\" class=\"dataframe\">\n",
       "  <thead>\n",
       "    <tr style=\"text-align: right;\">\n",
       "      <th></th>\n",
       "      <th>City</th>\n",
       "      <th>Price</th>\n",
       "      <th>Area</th>\n",
       "      <th>Location</th>\n",
       "      <th>bhk</th>\n",
       "    </tr>\n",
       "  </thead>\n",
       "  <tbody>\n",
       "    <tr>\n",
       "      <th>0</th>\n",
       "      <td>Bangalore</td>\n",
       "      <td>30000000.0</td>\n",
       "      <td>3340.0</td>\n",
       "      <td>Bangalore JP Nagar Phase 1</td>\n",
       "      <td>4.0</td>\n",
       "    </tr>\n",
       "    <tr>\n",
       "      <th>1</th>\n",
       "      <td>Bangalore</td>\n",
       "      <td>7888000.0</td>\n",
       "      <td>1045.0</td>\n",
       "      <td>Bangalore Dasarahalli on Tumkur Road</td>\n",
       "      <td>2.0</td>\n",
       "    </tr>\n",
       "    <tr>\n",
       "      <th>2</th>\n",
       "      <td>Bangalore</td>\n",
       "      <td>4866000.0</td>\n",
       "      <td>1179.0</td>\n",
       "      <td>Bangalore Kannur on Thanisandra Main Road</td>\n",
       "      <td>2.0</td>\n",
       "    </tr>\n",
       "    <tr>\n",
       "      <th>3</th>\n",
       "      <td>Bangalore</td>\n",
       "      <td>8358000.0</td>\n",
       "      <td>1675.0</td>\n",
       "      <td>Bangalore Doddanekundi</td>\n",
       "      <td>3.0</td>\n",
       "    </tr>\n",
       "    <tr>\n",
       "      <th>4</th>\n",
       "      <td>Bangalore</td>\n",
       "      <td>6845000.0</td>\n",
       "      <td>1670.0</td>\n",
       "      <td>Bangalore Kengeri</td>\n",
       "      <td>3.0</td>\n",
       "    </tr>\n",
       "  </tbody>\n",
       "</table>\n",
       "</div>"
      ],
      "text/plain": [
       "        City       Price    Area                                   Location  \\\n",
       "0  Bangalore  30000000.0  3340.0                 Bangalore JP Nagar Phase 1   \n",
       "1  Bangalore   7888000.0  1045.0       Bangalore Dasarahalli on Tumkur Road   \n",
       "2  Bangalore   4866000.0  1179.0  Bangalore Kannur on Thanisandra Main Road   \n",
       "3  Bangalore   8358000.0  1675.0                     Bangalore Doddanekundi   \n",
       "4  Bangalore   6845000.0  1670.0                          Bangalore Kengeri   \n",
       "\n",
       "   bhk  \n",
       "0  4.0  \n",
       "1  2.0  \n",
       "2  2.0  \n",
       "3  3.0  \n",
       "4  3.0  "
      ]
     },
     "execution_count": 350,
     "metadata": {},
     "output_type": "execute_result"
    }
   ],
   "source": [
    "df2.head()"
   ]
  },
  {
   "cell_type": "code",
   "execution_count": 351,
   "id": "87cedc1e",
   "metadata": {},
   "outputs": [],
   "source": [
    "df2['Price_per_sqft']=df2['Price']*100000/df1['Area']"
   ]
  },
  {
   "cell_type": "code",
   "execution_count": 352,
   "id": "cc77efbc",
   "metadata": {},
   "outputs": [
    {
     "data": {
      "text/plain": [
       "0        8.982036e+08\n",
       "1        7.548325e+08\n",
       "2        4.127226e+08\n",
       "3        4.989851e+08\n",
       "4        4.098802e+08\n",
       "             ...     \n",
       "18735    7.534247e+08\n",
       "18736    1.978691e+09\n",
       "18737    5.066667e+08\n",
       "18738    5.268293e+08\n",
       "18739    5.761773e+08\n",
       "Name: Price_per_sqft, Length: 18740, dtype: float64"
      ]
     },
     "execution_count": 352,
     "metadata": {},
     "output_type": "execute_result"
    }
   ],
   "source": [
    "df2['Price_per_sqft']"
   ]
  },
  {
   "cell_type": "code",
   "execution_count": 353,
   "id": "115ceaa6",
   "metadata": {},
   "outputs": [
    {
     "data": {
      "text/html": [
       "<div>\n",
       "<style scoped>\n",
       "    .dataframe tbody tr th:only-of-type {\n",
       "        vertical-align: middle;\n",
       "    }\n",
       "\n",
       "    .dataframe tbody tr th {\n",
       "        vertical-align: top;\n",
       "    }\n",
       "\n",
       "    .dataframe thead th {\n",
       "        text-align: right;\n",
       "    }\n",
       "</style>\n",
       "<table border=\"1\" class=\"dataframe\">\n",
       "  <thead>\n",
       "    <tr style=\"text-align: right;\">\n",
       "      <th></th>\n",
       "      <th>Price</th>\n",
       "      <th>Area</th>\n",
       "      <th>bhk</th>\n",
       "      <th>Price_per_sqft</th>\n",
       "    </tr>\n",
       "  </thead>\n",
       "  <tbody>\n",
       "    <tr>\n",
       "      <th>count</th>\n",
       "      <td>1.873700e+04</td>\n",
       "      <td>18737.000000</td>\n",
       "      <td>18737.000000</td>\n",
       "      <td>1.873700e+04</td>\n",
       "    </tr>\n",
       "    <tr>\n",
       "      <th>mean</th>\n",
       "      <td>1.140007e+07</td>\n",
       "      <td>1397.229172</td>\n",
       "      <td>2.540908</td>\n",
       "      <td>8.103186e+08</td>\n",
       "    </tr>\n",
       "    <tr>\n",
       "      <th>std</th>\n",
       "      <td>2.608179e+07</td>\n",
       "      <td>791.821573</td>\n",
       "      <td>0.740903</td>\n",
       "      <td>1.881117e+09</td>\n",
       "    </tr>\n",
       "    <tr>\n",
       "      <th>min</th>\n",
       "      <td>2.000000e+06</td>\n",
       "      <td>200.000000</td>\n",
       "      <td>1.000000</td>\n",
       "      <td>2.757100e+07</td>\n",
       "    </tr>\n",
       "    <tr>\n",
       "      <th>25%</th>\n",
       "      <td>4.152000e+06</td>\n",
       "      <td>943.000000</td>\n",
       "      <td>2.000000</td>\n",
       "      <td>4.049412e+08</td>\n",
       "    </tr>\n",
       "    <tr>\n",
       "      <th>50%</th>\n",
       "      <td>6.600000e+06</td>\n",
       "      <td>1210.000000</td>\n",
       "      <td>3.000000</td>\n",
       "      <td>5.410588e+08</td>\n",
       "    </tr>\n",
       "    <tr>\n",
       "      <th>75%</th>\n",
       "      <td>1.130000e+07</td>\n",
       "      <td>1630.000000</td>\n",
       "      <td>3.000000</td>\n",
       "      <td>7.730038e+08</td>\n",
       "    </tr>\n",
       "    <tr>\n",
       "      <th>max</th>\n",
       "      <td>8.546000e+08</td>\n",
       "      <td>16000.000000</td>\n",
       "      <td>8.000000</td>\n",
       "      <td>1.076444e+11</td>\n",
       "    </tr>\n",
       "  </tbody>\n",
       "</table>\n",
       "</div>"
      ],
      "text/plain": [
       "              Price          Area           bhk  Price_per_sqft\n",
       "count  1.873700e+04  18737.000000  18737.000000    1.873700e+04\n",
       "mean   1.140007e+07   1397.229172      2.540908    8.103186e+08\n",
       "std    2.608179e+07    791.821573      0.740903    1.881117e+09\n",
       "min    2.000000e+06    200.000000      1.000000    2.757100e+07\n",
       "25%    4.152000e+06    943.000000      2.000000    4.049412e+08\n",
       "50%    6.600000e+06   1210.000000      3.000000    5.410588e+08\n",
       "75%    1.130000e+07   1630.000000      3.000000    7.730038e+08\n",
       "max    8.546000e+08  16000.000000      8.000000    1.076444e+11"
      ]
     },
     "execution_count": 353,
     "metadata": {},
     "output_type": "execute_result"
    }
   ],
   "source": [
    "df2.describe()"
   ]
  },
  {
   "cell_type": "code",
   "execution_count": 354,
   "id": "7e71e0ff",
   "metadata": {},
   "outputs": [
    {
     "data": {
      "text/plain": [
       "Delhi Noida                          764\n",
       "Delhi Uttam Nagar                    430\n",
       "Delhi Dwarka Mor                     347\n",
       "Delhi Vasant Kunj                    263\n",
       "Bangalore Electronic City Phase 2    232\n",
       "                                    ... \n",
       "Bangalore Sompura                      1\n",
       "Delhi 75 Noida Road                    1\n",
       "Delhi 75 Sector 22 Road                1\n",
       "Delhi Sector 108                       1\n",
       "Hyderabad Paradise Circle              1\n",
       "Name: Location, Length: 1069, dtype: int64"
      ]
     },
     "execution_count": 354,
     "metadata": {},
     "output_type": "execute_result"
    }
   ],
   "source": [
    "df2['Location'].value_counts()"
   ]
  },
  {
   "cell_type": "code",
   "execution_count": 355,
   "id": "75180dd3",
   "metadata": {},
   "outputs": [],
   "source": [
    "df2['Location'] = df2['Location'].apply(lambda x:x.strip())\n",
    "Location_counts = df2['Location'].value_counts()"
   ]
  },
  {
   "cell_type": "code",
   "execution_count": 356,
   "id": "6ef61d06",
   "metadata": {},
   "outputs": [
    {
     "data": {
      "text/plain": [
       "Delhi Noida                          764\n",
       "Delhi Uttam Nagar                    430\n",
       "Delhi Dwarka Mor                     347\n",
       "Delhi Vasant Kunj                    263\n",
       "Bangalore Electronic City Phase 2    232\n",
       "                                    ... \n",
       "Bangalore Sompura                      1\n",
       "Delhi 75 Noida Road                    1\n",
       "Delhi 75 Sector 22 Road                1\n",
       "Delhi Sector 108                       1\n",
       "Hyderabad Paradise Circle              1\n",
       "Name: Location, Length: 1069, dtype: int64"
      ]
     },
     "execution_count": 356,
     "metadata": {},
     "output_type": "execute_result"
    }
   ],
   "source": [
    "Location_counts"
   ]
  },
  {
   "cell_type": "code",
   "execution_count": 357,
   "id": "a4d1a443",
   "metadata": {},
   "outputs": [
    {
     "data": {
      "text/plain": [
       "Delhi Kundli                 10\n",
       "Chennai Thaiyur              10\n",
       "Bangalore Whitefield         10\n",
       "Chennai Periyapanicheri      10\n",
       "Chennai Vanagaram            10\n",
       "                             ..\n",
       "Bangalore Sompura             1\n",
       "Delhi 75 Noida Road           1\n",
       "Delhi 75 Sector 22 Road       1\n",
       "Delhi Sector 108              1\n",
       "Hyderabad Paradise Circle     1\n",
       "Name: Location, Length: 744, dtype: int64"
      ]
     },
     "execution_count": 357,
     "metadata": {},
     "output_type": "execute_result"
    }
   ],
   "source": [
    "Location_counts_less_10=Location_counts[Location_counts<=10]\n",
    "Location_counts_less_10"
   ]
  },
  {
   "cell_type": "code",
   "execution_count": 358,
   "id": "1ed11aff",
   "metadata": {},
   "outputs": [],
   "source": [
    "df2['Location'] = df2['Location'].apply(lambda x: 'other' if x in Location_counts_less_10 else x)"
   ]
  },
  {
   "cell_type": "code",
   "execution_count": 359,
   "id": "3c9556c5",
   "metadata": {},
   "outputs": [
    {
     "data": {
      "text/plain": [
       "other                          1924\n",
       "Delhi Noida                     764\n",
       "Delhi Uttam Nagar               430\n",
       "Delhi Dwarka Mor                347\n",
       "Delhi Vasant Kunj               263\n",
       "                               ... \n",
       "Chennai Kotturpuram              11\n",
       "Bangalore KPC Layout             11\n",
       "Hyderabad Darga Khaliz Khan      11\n",
       "Bangalore Uttarahalli Hobli      11\n",
       "Delhi Sector 17 Dwarka           11\n",
       "Name: Location, Length: 326, dtype: int64"
      ]
     },
     "execution_count": 359,
     "metadata": {},
     "output_type": "execute_result"
    }
   ],
   "source": [
    "df2['Location'].value_counts()"
   ]
  },
  {
   "cell_type": "code",
   "execution_count": 360,
   "id": "f1df1d22",
   "metadata": {},
   "outputs": [
    {
     "data": {
      "text/html": [
       "<div>\n",
       "<style scoped>\n",
       "    .dataframe tbody tr th:only-of-type {\n",
       "        vertical-align: middle;\n",
       "    }\n",
       "\n",
       "    .dataframe tbody tr th {\n",
       "        vertical-align: top;\n",
       "    }\n",
       "\n",
       "    .dataframe thead th {\n",
       "        text-align: right;\n",
       "    }\n",
       "</style>\n",
       "<table border=\"1\" class=\"dataframe\">\n",
       "  <thead>\n",
       "    <tr style=\"text-align: right;\">\n",
       "      <th></th>\n",
       "      <th>Price</th>\n",
       "      <th>Area</th>\n",
       "      <th>bhk</th>\n",
       "      <th>Price_per_sqft</th>\n",
       "    </tr>\n",
       "  </thead>\n",
       "  <tbody>\n",
       "    <tr>\n",
       "      <th>count</th>\n",
       "      <td>1.873700e+04</td>\n",
       "      <td>18737.000000</td>\n",
       "      <td>18737.000000</td>\n",
       "      <td>1.873700e+04</td>\n",
       "    </tr>\n",
       "    <tr>\n",
       "      <th>mean</th>\n",
       "      <td>1.140007e+07</td>\n",
       "      <td>1397.229172</td>\n",
       "      <td>2.540908</td>\n",
       "      <td>8.103186e+08</td>\n",
       "    </tr>\n",
       "    <tr>\n",
       "      <th>std</th>\n",
       "      <td>2.608179e+07</td>\n",
       "      <td>791.821573</td>\n",
       "      <td>0.740903</td>\n",
       "      <td>1.881117e+09</td>\n",
       "    </tr>\n",
       "    <tr>\n",
       "      <th>min</th>\n",
       "      <td>2.000000e+06</td>\n",
       "      <td>200.000000</td>\n",
       "      <td>1.000000</td>\n",
       "      <td>2.757100e+07</td>\n",
       "    </tr>\n",
       "    <tr>\n",
       "      <th>25%</th>\n",
       "      <td>4.152000e+06</td>\n",
       "      <td>943.000000</td>\n",
       "      <td>2.000000</td>\n",
       "      <td>4.049412e+08</td>\n",
       "    </tr>\n",
       "    <tr>\n",
       "      <th>50%</th>\n",
       "      <td>6.600000e+06</td>\n",
       "      <td>1210.000000</td>\n",
       "      <td>3.000000</td>\n",
       "      <td>5.410588e+08</td>\n",
       "    </tr>\n",
       "    <tr>\n",
       "      <th>75%</th>\n",
       "      <td>1.130000e+07</td>\n",
       "      <td>1630.000000</td>\n",
       "      <td>3.000000</td>\n",
       "      <td>7.730038e+08</td>\n",
       "    </tr>\n",
       "    <tr>\n",
       "      <th>max</th>\n",
       "      <td>8.546000e+08</td>\n",
       "      <td>16000.000000</td>\n",
       "      <td>8.000000</td>\n",
       "      <td>1.076444e+11</td>\n",
       "    </tr>\n",
       "  </tbody>\n",
       "</table>\n",
       "</div>"
      ],
      "text/plain": [
       "              Price          Area           bhk  Price_per_sqft\n",
       "count  1.873700e+04  18737.000000  18737.000000    1.873700e+04\n",
       "mean   1.140007e+07   1397.229172      2.540908    8.103186e+08\n",
       "std    2.608179e+07    791.821573      0.740903    1.881117e+09\n",
       "min    2.000000e+06    200.000000      1.000000    2.757100e+07\n",
       "25%    4.152000e+06    943.000000      2.000000    4.049412e+08\n",
       "50%    6.600000e+06   1210.000000      3.000000    5.410588e+08\n",
       "75%    1.130000e+07   1630.000000      3.000000    7.730038e+08\n",
       "max    8.546000e+08  16000.000000      8.000000    1.076444e+11"
      ]
     },
     "execution_count": 360,
     "metadata": {},
     "output_type": "execute_result"
    }
   ],
   "source": [
    "df2.describe()"
   ]
  },
  {
   "cell_type": "code",
   "execution_count": 361,
   "id": "a9127129",
   "metadata": {},
   "outputs": [
    {
     "data": {
      "text/plain": [
       "count    18737.000000\n",
       "mean       542.053630\n",
       "std        218.407549\n",
       "min        200.000000\n",
       "25%        433.333333\n",
       "50%        525.000000\n",
       "75%        608.000000\n",
       "max      16000.000000\n",
       "dtype: float64"
      ]
     },
     "execution_count": 361,
     "metadata": {},
     "output_type": "execute_result"
    }
   ],
   "source": [
    "(df2['Area']/df2['bhk']).describe()"
   ]
  },
  {
   "cell_type": "code",
   "execution_count": 362,
   "id": "6d3124fe",
   "metadata": {},
   "outputs": [
    {
     "data": {
      "text/html": [
       "<div>\n",
       "<style scoped>\n",
       "    .dataframe tbody tr th:only-of-type {\n",
       "        vertical-align: middle;\n",
       "    }\n",
       "\n",
       "    .dataframe tbody tr th {\n",
       "        vertical-align: top;\n",
       "    }\n",
       "\n",
       "    .dataframe thead th {\n",
       "        text-align: right;\n",
       "    }\n",
       "</style>\n",
       "<table border=\"1\" class=\"dataframe\">\n",
       "  <thead>\n",
       "    <tr style=\"text-align: right;\">\n",
       "      <th></th>\n",
       "      <th>Price</th>\n",
       "      <th>Area</th>\n",
       "      <th>bhk</th>\n",
       "      <th>Price_per_sqft</th>\n",
       "    </tr>\n",
       "  </thead>\n",
       "  <tbody>\n",
       "    <tr>\n",
       "      <th>count</th>\n",
       "      <td>1.792300e+04</td>\n",
       "      <td>17923.000000</td>\n",
       "      <td>17923.000000</td>\n",
       "      <td>1.792300e+04</td>\n",
       "    </tr>\n",
       "    <tr>\n",
       "      <th>mean</th>\n",
       "      <td>1.157889e+07</td>\n",
       "      <td>1430.937287</td>\n",
       "      <td>2.541037</td>\n",
       "      <td>7.865983e+08</td>\n",
       "    </tr>\n",
       "    <tr>\n",
       "      <th>std</th>\n",
       "      <td>2.610660e+07</td>\n",
       "      <td>792.506652</td>\n",
       "      <td>0.747595</td>\n",
       "      <td>1.529144e+09</td>\n",
       "    </tr>\n",
       "    <tr>\n",
       "      <th>min</th>\n",
       "      <td>2.000000e+06</td>\n",
       "      <td>300.000000</td>\n",
       "      <td>1.000000</td>\n",
       "      <td>2.757100e+07</td>\n",
       "    </tr>\n",
       "    <tr>\n",
       "      <th>25%</th>\n",
       "      <td>4.300000e+06</td>\n",
       "      <td>995.000000</td>\n",
       "      <td>2.000000</td>\n",
       "      <td>4.000000e+08</td>\n",
       "    </tr>\n",
       "    <tr>\n",
       "      <th>50%</th>\n",
       "      <td>6.800000e+06</td>\n",
       "      <td>1240.000000</td>\n",
       "      <td>3.000000</td>\n",
       "      <td>5.422460e+08</td>\n",
       "    </tr>\n",
       "    <tr>\n",
       "      <th>75%</th>\n",
       "      <td>1.150000e+07</td>\n",
       "      <td>1650.000000</td>\n",
       "      <td>3.000000</td>\n",
       "      <td>7.751938e+08</td>\n",
       "    </tr>\n",
       "    <tr>\n",
       "      <th>max</th>\n",
       "      <td>8.546000e+08</td>\n",
       "      <td>16000.000000</td>\n",
       "      <td>8.000000</td>\n",
       "      <td>6.159615e+10</td>\n",
       "    </tr>\n",
       "  </tbody>\n",
       "</table>\n",
       "</div>"
      ],
      "text/plain": [
       "              Price          Area           bhk  Price_per_sqft\n",
       "count  1.792300e+04  17923.000000  17923.000000    1.792300e+04\n",
       "mean   1.157889e+07   1430.937287      2.541037    7.865983e+08\n",
       "std    2.610660e+07    792.506652      0.747595    1.529144e+09\n",
       "min    2.000000e+06    300.000000      1.000000    2.757100e+07\n",
       "25%    4.300000e+06    995.000000      2.000000    4.000000e+08\n",
       "50%    6.800000e+06   1240.000000      3.000000    5.422460e+08\n",
       "75%    1.150000e+07   1650.000000      3.000000    7.751938e+08\n",
       "max    8.546000e+08  16000.000000      8.000000    6.159615e+10"
      ]
     },
     "execution_count": 362,
     "metadata": {},
     "output_type": "execute_result"
    }
   ],
   "source": [
    "df3= df2[((df2['Area']/df2['bhk']) >= 300)]\n",
    "df3.describe()"
   ]
  },
  {
   "cell_type": "code",
   "execution_count": 363,
   "id": "5a4ce8cf",
   "metadata": {},
   "outputs": [
    {
     "data": {
      "text/plain": [
       "(17923, 6)"
      ]
     },
     "execution_count": 363,
     "metadata": {},
     "output_type": "execute_result"
    }
   ],
   "source": [
    "df3.shape"
   ]
  },
  {
   "cell_type": "code",
   "execution_count": 364,
   "id": "985f5cc3",
   "metadata": {},
   "outputs": [
    {
     "data": {
      "text/plain": [
       "count    1.792300e+04\n",
       "mean     7.865983e+08\n",
       "std      1.529144e+09\n",
       "min      2.757100e+07\n",
       "25%      4.000000e+08\n",
       "50%      5.422460e+08\n",
       "75%      7.751938e+08\n",
       "max      6.159615e+10\n",
       "Name: Price_per_sqft, dtype: float64"
      ]
     },
     "execution_count": 364,
     "metadata": {},
     "output_type": "execute_result"
    }
   ],
   "source": [
    "df3.Price_per_sqft.describe()"
   ]
  },
  {
   "cell_type": "code",
   "execution_count": 365,
   "id": "c963f0e8",
   "metadata": {},
   "outputs": [
    {
     "data": {
      "text/plain": [
       "(15690, 6)"
      ]
     },
     "execution_count": 365,
     "metadata": {},
     "output_type": "execute_result"
    }
   ],
   "source": [
    "def removeOutliners(df):\n",
    "  df_Out = pd.DataFrame()\n",
    "  for key,subdf in df.groupby('Location'):\n",
    "    m = np.mean(subdf.Price_per_sqft)\n",
    "    st = np.std(subdf.Price_per_sqft)\n",
    "    reduced = subdf[(subdf.Price_per_sqft>(m-st)) & (subdf.Price_per_sqft<=(m+st))]\n",
    "    df_Out = pd.concat([df_Out,reduced],ignore_index=True)\n",
    "  return df_Out\n",
    "df4 = removeOutliners(df3)\n",
    "df4.shape"
   ]
  },
  {
   "cell_type": "code",
   "execution_count": 366,
   "id": "5d98a7f7",
   "metadata": {},
   "outputs": [
    {
     "data": {
      "text/html": [
       "<div>\n",
       "<style scoped>\n",
       "    .dataframe tbody tr th:only-of-type {\n",
       "        vertical-align: middle;\n",
       "    }\n",
       "\n",
       "    .dataframe tbody tr th {\n",
       "        vertical-align: top;\n",
       "    }\n",
       "\n",
       "    .dataframe thead th {\n",
       "        text-align: right;\n",
       "    }\n",
       "</style>\n",
       "<table border=\"1\" class=\"dataframe\">\n",
       "  <thead>\n",
       "    <tr style=\"text-align: right;\">\n",
       "      <th></th>\n",
       "      <th>Price</th>\n",
       "      <th>Area</th>\n",
       "      <th>bhk</th>\n",
       "      <th>Price_per_sqft</th>\n",
       "    </tr>\n",
       "  </thead>\n",
       "  <tbody>\n",
       "    <tr>\n",
       "      <th>count</th>\n",
       "      <td>1.569000e+04</td>\n",
       "      <td>15690.000000</td>\n",
       "      <td>15690.000000</td>\n",
       "      <td>1.569000e+04</td>\n",
       "    </tr>\n",
       "    <tr>\n",
       "      <th>mean</th>\n",
       "      <td>9.151071e+06</td>\n",
       "      <td>1400.075462</td>\n",
       "      <td>2.530911</td>\n",
       "      <td>6.314199e+08</td>\n",
       "    </tr>\n",
       "    <tr>\n",
       "      <th>std</th>\n",
       "      <td>9.707452e+06</td>\n",
       "      <td>726.086782</td>\n",
       "      <td>0.730299</td>\n",
       "      <td>4.182580e+08</td>\n",
       "    </tr>\n",
       "    <tr>\n",
       "      <th>min</th>\n",
       "      <td>2.000000e+06</td>\n",
       "      <td>300.000000</td>\n",
       "      <td>1.000000</td>\n",
       "      <td>2.757100e+07</td>\n",
       "    </tr>\n",
       "    <tr>\n",
       "      <th>25%</th>\n",
       "      <td>4.240000e+06</td>\n",
       "      <td>988.000000</td>\n",
       "      <td>2.000000</td>\n",
       "      <td>4.052040e+08</td>\n",
       "    </tr>\n",
       "    <tr>\n",
       "      <th>50%</th>\n",
       "      <td>6.534000e+06</td>\n",
       "      <td>1230.000000</td>\n",
       "      <td>2.000000</td>\n",
       "      <td>5.319420e+08</td>\n",
       "    </tr>\n",
       "    <tr>\n",
       "      <th>75%</th>\n",
       "      <td>1.070000e+07</td>\n",
       "      <td>1629.000000</td>\n",
       "      <td>3.000000</td>\n",
       "      <td>7.227625e+08</td>\n",
       "    </tr>\n",
       "    <tr>\n",
       "      <th>max</th>\n",
       "      <td>2.854000e+08</td>\n",
       "      <td>16000.000000</td>\n",
       "      <td>8.000000</td>\n",
       "      <td>1.142857e+10</td>\n",
       "    </tr>\n",
       "  </tbody>\n",
       "</table>\n",
       "</div>"
      ],
      "text/plain": [
       "              Price          Area           bhk  Price_per_sqft\n",
       "count  1.569000e+04  15690.000000  15690.000000    1.569000e+04\n",
       "mean   9.151071e+06   1400.075462      2.530911    6.314199e+08\n",
       "std    9.707452e+06    726.086782      0.730299    4.182580e+08\n",
       "min    2.000000e+06    300.000000      1.000000    2.757100e+07\n",
       "25%    4.240000e+06    988.000000      2.000000    4.052040e+08\n",
       "50%    6.534000e+06   1230.000000      2.000000    5.319420e+08\n",
       "75%    1.070000e+07   1629.000000      3.000000    7.227625e+08\n",
       "max    2.854000e+08  16000.000000      8.000000    1.142857e+10"
      ]
     },
     "execution_count": 366,
     "metadata": {},
     "output_type": "execute_result"
    }
   ],
   "source": [
    "df4.describe()"
   ]
  },
  {
   "cell_type": "code",
   "execution_count": 367,
   "id": "b240884f",
   "metadata": {},
   "outputs": [],
   "source": [
    "def bhk_outlier_remover(df):\n",
    "    exclude_indices = np.array([])\n",
    "    for location, location_df in df.groupby('Location'):\n",
    "        bhk_stats= {}\n",
    "        for bhk, bhk_df in location_df.groupby('bhk'):\n",
    "            bhk_stats[bhk]= {\n",
    "                'mean': np.mean(bhk_df.Price_per_sqft),\n",
    "                'std': np.std(bhk_df.Price_per_sqft),\n",
    "                'count':bhk_df.shape[0]\n",
    "            }\n",
    "        for bhk, bhk_df in location_df.groupby('bhk'):\n",
    "            stats = bhk_stats.get(bhk-1)\n",
    "            if stats and stats['count']>5:\n",
    "                exclude_indices =np.append(exclude_indices, bhk_df[bhk_df.Price_per_sqft<(stats['mean'])].index.values)            \n",
    "    return df.drop(exclude_indices, axis='index')"
   ]
  },
  {
   "cell_type": "code",
   "execution_count": 368,
   "id": "7ed78cc7",
   "metadata": {},
   "outputs": [],
   "source": [
    "df4=bhk_outlier_remover(df4)"
   ]
  },
  {
   "cell_type": "code",
   "execution_count": 369,
   "id": "3ecaa968",
   "metadata": {},
   "outputs": [
    {
     "data": {
      "text/html": [
       "<div>\n",
       "<style scoped>\n",
       "    .dataframe tbody tr th:only-of-type {\n",
       "        vertical-align: middle;\n",
       "    }\n",
       "\n",
       "    .dataframe tbody tr th {\n",
       "        vertical-align: top;\n",
       "    }\n",
       "\n",
       "    .dataframe thead th {\n",
       "        text-align: right;\n",
       "    }\n",
       "</style>\n",
       "<table border=\"1\" class=\"dataframe\">\n",
       "  <thead>\n",
       "    <tr style=\"text-align: right;\">\n",
       "      <th></th>\n",
       "      <th>City</th>\n",
       "      <th>Price</th>\n",
       "      <th>Area</th>\n",
       "      <th>Location</th>\n",
       "      <th>bhk</th>\n",
       "      <th>Price_per_sqft</th>\n",
       "    </tr>\n",
       "  </thead>\n",
       "  <tbody>\n",
       "    <tr>\n",
       "      <th>0</th>\n",
       "      <td>Bangalore</td>\n",
       "      <td>6700000.0</td>\n",
       "      <td>1180.0</td>\n",
       "      <td>Bangalore 5th Phase</td>\n",
       "      <td>2.0</td>\n",
       "      <td>5.677966e+08</td>\n",
       "    </tr>\n",
       "    <tr>\n",
       "      <th>1</th>\n",
       "      <td>Bangalore</td>\n",
       "      <td>5800000.0</td>\n",
       "      <td>1185.0</td>\n",
       "      <td>Bangalore 5th Phase</td>\n",
       "      <td>2.0</td>\n",
       "      <td>4.894515e+08</td>\n",
       "    </tr>\n",
       "    <tr>\n",
       "      <th>3</th>\n",
       "      <td>Bangalore</td>\n",
       "      <td>8400000.0</td>\n",
       "      <td>1180.0</td>\n",
       "      <td>Bangalore 5th Phase</td>\n",
       "      <td>2.0</td>\n",
       "      <td>7.118644e+08</td>\n",
       "    </tr>\n",
       "    <tr>\n",
       "      <th>4</th>\n",
       "      <td>Bangalore</td>\n",
       "      <td>4876000.0</td>\n",
       "      <td>1185.0</td>\n",
       "      <td>Bangalore 5th Phase</td>\n",
       "      <td>2.0</td>\n",
       "      <td>4.114768e+08</td>\n",
       "    </tr>\n",
       "    <tr>\n",
       "      <th>6</th>\n",
       "      <td>Bangalore</td>\n",
       "      <td>7498999.0</td>\n",
       "      <td>1180.0</td>\n",
       "      <td>Bangalore 5th Phase</td>\n",
       "      <td>2.0</td>\n",
       "      <td>6.355084e+08</td>\n",
       "    </tr>\n",
       "    <tr>\n",
       "      <th>...</th>\n",
       "      <td>...</td>\n",
       "      <td>...</td>\n",
       "      <td>...</td>\n",
       "      <td>...</td>\n",
       "      <td>...</td>\n",
       "      <td>...</td>\n",
       "    </tr>\n",
       "    <tr>\n",
       "      <th>15652</th>\n",
       "      <td>Hyderabad</td>\n",
       "      <td>29500000.0</td>\n",
       "      <td>3883.0</td>\n",
       "      <td>other</td>\n",
       "      <td>4.0</td>\n",
       "      <td>7.597219e+08</td>\n",
       "    </tr>\n",
       "    <tr>\n",
       "      <th>15656</th>\n",
       "      <td>Hyderabad</td>\n",
       "      <td>14000000.0</td>\n",
       "      <td>1616.0</td>\n",
       "      <td>other</td>\n",
       "      <td>3.0</td>\n",
       "      <td>8.663366e+08</td>\n",
       "    </tr>\n",
       "    <tr>\n",
       "      <th>15667</th>\n",
       "      <td>Hyderabad</td>\n",
       "      <td>19500000.0</td>\n",
       "      <td>2500.0</td>\n",
       "      <td>other</td>\n",
       "      <td>4.0</td>\n",
       "      <td>7.800000e+08</td>\n",
       "    </tr>\n",
       "    <tr>\n",
       "      <th>15678</th>\n",
       "      <td>Hyderabad</td>\n",
       "      <td>22000000.0</td>\n",
       "      <td>1450.0</td>\n",
       "      <td>other</td>\n",
       "      <td>3.0</td>\n",
       "      <td>1.517241e+09</td>\n",
       "    </tr>\n",
       "    <tr>\n",
       "      <th>15680</th>\n",
       "      <td>Hyderabad</td>\n",
       "      <td>15500000.0</td>\n",
       "      <td>1080.0</td>\n",
       "      <td>other</td>\n",
       "      <td>2.0</td>\n",
       "      <td>1.435185e+09</td>\n",
       "    </tr>\n",
       "  </tbody>\n",
       "</table>\n",
       "<p>9956 rows × 6 columns</p>\n",
       "</div>"
      ],
      "text/plain": [
       "            City       Price    Area             Location  bhk  Price_per_sqft\n",
       "0      Bangalore   6700000.0  1180.0  Bangalore 5th Phase  2.0    5.677966e+08\n",
       "1      Bangalore   5800000.0  1185.0  Bangalore 5th Phase  2.0    4.894515e+08\n",
       "3      Bangalore   8400000.0  1180.0  Bangalore 5th Phase  2.0    7.118644e+08\n",
       "4      Bangalore   4876000.0  1185.0  Bangalore 5th Phase  2.0    4.114768e+08\n",
       "6      Bangalore   7498999.0  1180.0  Bangalore 5th Phase  2.0    6.355084e+08\n",
       "...          ...         ...     ...                  ...  ...             ...\n",
       "15652  Hyderabad  29500000.0  3883.0                other  4.0    7.597219e+08\n",
       "15656  Hyderabad  14000000.0  1616.0                other  3.0    8.663366e+08\n",
       "15667  Hyderabad  19500000.0  2500.0                other  4.0    7.800000e+08\n",
       "15678  Hyderabad  22000000.0  1450.0                other  3.0    1.517241e+09\n",
       "15680  Hyderabad  15500000.0  1080.0                other  2.0    1.435185e+09\n",
       "\n",
       "[9956 rows x 6 columns]"
      ]
     },
     "execution_count": 369,
     "metadata": {},
     "output_type": "execute_result"
    }
   ],
   "source": [
    "df4"
   ]
  },
  {
   "cell_type": "code",
   "execution_count": 370,
   "id": "72455317",
   "metadata": {},
   "outputs": [
    {
     "data": {
      "text/plain": [
       "(9956, 6)"
      ]
     },
     "execution_count": 370,
     "metadata": {},
     "output_type": "execute_result"
    }
   ],
   "source": [
    "df4.shape"
   ]
  },
  {
   "cell_type": "code",
   "execution_count": 371,
   "id": "3ca29109",
   "metadata": {},
   "outputs": [],
   "source": [
    "df4.drop(columns=['Price_per_sqft'], inplace=True)"
   ]
  },
  {
   "cell_type": "code",
   "execution_count": 372,
   "id": "e1010368",
   "metadata": {},
   "outputs": [],
   "source": [
    "df4.to_csv(\"Cleaned_data.csv\")"
   ]
  },
  {
   "cell_type": "code",
   "execution_count": 373,
   "id": "1872df58",
   "metadata": {},
   "outputs": [],
   "source": [
    "X=df4.drop(columns=['Price'])\n",
    "y=df4['Price']"
   ]
  },
  {
   "cell_type": "code",
   "execution_count": 374,
   "id": "dbe1912f",
   "metadata": {},
   "outputs": [],
   "source": [
    "from sklearn.model_selection import train_test_split\n",
    "from sklearn.linear_model import LinearRegression, Lasso, Ridge\n",
    "from sklearn.preprocessing import OneHotEncoder, StandardScaler\n",
    "from sklearn.compose import make_column_transformer\n",
    "from sklearn.pipeline import make_pipeline\n",
    "from sklearn.metrics import r2_score"
   ]
  },
  {
   "cell_type": "code",
   "execution_count": 375,
   "id": "3b0c2701",
   "metadata": {},
   "outputs": [],
   "source": [
    "X_train, X_test, y_train, y_test= train_test_split(X,y, test_size=0.2, random_state=0)"
   ]
  },
  {
   "cell_type": "code",
   "execution_count": 376,
   "id": "805015e7",
   "metadata": {},
   "outputs": [
    {
     "name": "stdout",
     "output_type": "stream",
     "text": [
      "(7964, 4)\n",
      "(1992, 4)\n"
     ]
    }
   ],
   "source": [
    "print(X_train.shape)\n",
    "print(X_test.shape)"
   ]
  },
  {
   "cell_type": "code",
   "execution_count": 377,
   "id": "6138d04c",
   "metadata": {},
   "outputs": [],
   "source": [
    "column_trans =make_column_transformer((OneHotEncoder(sparse=False), ['Location','City']), remainder='passthrough')"
   ]
  },
  {
   "cell_type": "code",
   "execution_count": 378,
   "id": "6f5e7651",
   "metadata": {},
   "outputs": [
    {
     "data": {
      "text/plain": [
       "Pipeline(steps=[('columntransformer',\n",
       "                 ColumnTransformer(remainder='passthrough',\n",
       "                                   transformers=[('onehotencoder',\n",
       "                                                  OneHotEncoder(sparse=False),\n",
       "                                                  ['Location', 'City'])])),\n",
       "                ('standardscaler', StandardScaler()),\n",
       "                ('linearregression', LinearRegression(normalize=True))])"
      ]
     },
     "execution_count": 378,
     "metadata": {},
     "output_type": "execute_result"
    }
   ],
   "source": [
    "scaler = StandardScaler()\n",
    "lr = LinearRegression(normalize=True)\n",
    "pipe =make_pipeline(column_trans, scaler, lr)\n",
    "pipe.fit(X_train, y_train)"
   ]
  },
  {
   "cell_type": "code",
   "execution_count": 379,
   "id": "aa864461",
   "metadata": {},
   "outputs": [
    {
     "data": {
      "text/plain": [
       "0.6847875534446977"
      ]
     },
     "execution_count": 379,
     "metadata": {},
     "output_type": "execute_result"
    }
   ],
   "source": [
    "y_pred_lr = pipe.predict(X_test)\n",
    "r2_score(y_test, y_pred_lr)"
   ]
  },
  {
   "cell_type": "code",
   "execution_count": 380,
   "id": "fa62e75b",
   "metadata": {},
   "outputs": [
    {
     "data": {
      "text/plain": [
       "0.6848289689588756"
      ]
     },
     "execution_count": 380,
     "metadata": {},
     "output_type": "execute_result"
    }
   ],
   "source": [
    "lasso= Lasso()\n",
    "pipe = make_pipeline(column_trans, scaler, lasso)\n",
    "pipe.fit(X_train, y_train)\n",
    "\n",
    "y_pred_lasso = pipe.predict(X_test)\n",
    "r2_score(y_test, y_pred_lasso)"
   ]
  },
  {
   "cell_type": "code",
   "execution_count": 381,
   "id": "76b17ca2",
   "metadata": {},
   "outputs": [
    {
     "data": {
      "text/plain": [
       "Index(['City', 'Area', 'Location', 'bhk'], dtype='object')"
      ]
     },
     "execution_count": 381,
     "metadata": {},
     "output_type": "execute_result"
    }
   ],
   "source": [
    "X.columns"
   ]
  },
  {
   "cell_type": "code",
   "execution_count": 382,
   "id": "3f43c376",
   "metadata": {},
   "outputs": [],
   "source": [
    "def predict_price(City,Area,Location,bhk):    \n",
    "    loc_index = np.where(X.columns==City)[0]\n",
    "\n",
    "    x = np.zeros(len(X.columns))\n",
    "    \n",
    "    x[0] = Location\n",
    "    x[1] = bhk\n",
    "    \n",
    "    if loc_index >= 0:\n",
    "        x[loc_index] = 1\n",
    "\n",
    "    return lr_clf.predict([x])[0]"
   ]
  },
  {
   "cell_type": "code",
   "execution_count": 383,
   "id": "427b0f90",
   "metadata": {},
   "outputs": [
    {
     "data": {
      "text/plain": [
       "array([26562101.6253354])"
      ]
     },
     "execution_count": 383,
     "metadata": {},
     "output_type": "execute_result"
    }
   ],
   "source": [
    "pipe.predict(pd.DataFrame([['Bangalore',3340.0,'Bangalore JP Nagar Phase 1',4.0]], columns=['City','Area','Location','bhk']))"
   ]
  },
  {
   "cell_type": "code",
   "execution_count": 385,
   "id": "ba2c5f65",
   "metadata": {},
   "outputs": [],
   "source": [
    "pickle.dump(pipe,open('model.pkl','wb'))"
   ]
  },
  {
   "cell_type": "code",
   "execution_count": null,
   "id": "13e99dfb",
   "metadata": {},
   "outputs": [],
   "source": []
  },
  {
   "cell_type": "code",
   "execution_count": null,
   "id": "8c5775cb",
   "metadata": {},
   "outputs": [],
   "source": []
  }
 ],
 "metadata": {
  "kernelspec": {
   "display_name": "Python 3 (ipykernel)",
   "language": "python",
   "name": "python3"
  },
  "language_info": {
   "codemirror_mode": {
    "name": "ipython",
    "version": 3
   },
   "file_extension": ".py",
   "mimetype": "text/x-python",
   "name": "python",
   "nbconvert_exporter": "python",
   "pygments_lexer": "ipython3",
   "version": "3.9.12"
  }
 },
 "nbformat": 4,
 "nbformat_minor": 5
}
